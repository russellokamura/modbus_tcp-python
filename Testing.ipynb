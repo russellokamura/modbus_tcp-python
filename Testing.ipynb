{
 "cells": [
  {
   "cell_type": "code",
   "execution_count": 6,
   "id": "572cc389",
   "metadata": {},
   "outputs": [],
   "source": [
    "import helpers.unit_conversions as unit_con\n",
    "from pyModbusTCP.client import ModbusClient\n",
    "from pyModbusTCP.server import ModbusServer, DataBank"
   ]
  },
  {
   "cell_type": "code",
   "execution_count": 7,
   "id": "53e296e0",
   "metadata": {},
   "outputs": [
    {
     "data": {
      "text/plain": [
       "[64, 109, 70, 217, 232, 62, 66, 91]"
      ]
     },
     "execution_count": 7,
     "metadata": {},
     "output_type": "execute_result"
    }
   ],
   "source": [
    "unit_con.double_to_bytes(234.2141)"
   ]
  },
  {
   "cell_type": "code",
   "execution_count": 9,
   "id": "c38733b6",
   "metadata": {},
   "outputs": [
    {
     "ename": "NameError",
     "evalue": "name 'source' is not defined",
     "output_type": "error",
     "traceback": [
      "\u001b[1;31m---------------------------------------------------------------------------\u001b[0m",
      "\u001b[1;31mNameError\u001b[0m                                 Traceback (most recent call last)",
      "\u001b[1;32m<ipython-input-9-0af278afac22>\u001b[0m in \u001b[0;36m<module>\u001b[1;34m\u001b[0m\n\u001b[1;32m----> 1\u001b[1;33m \u001b[0msource\u001b[0m\u001b[1;33m(\u001b[0m\u001b[0mDataBank\u001b[0m\u001b[1;33m)\u001b[0m\u001b[1;33m\u001b[0m\u001b[1;33m\u001b[0m\u001b[0m\n\u001b[0m",
      "\u001b[1;31mNameError\u001b[0m: name 'source' is not defined"
     ]
    }
   ],
   "source": [
    "source(DataBank)"
   ]
  },
  {
   "cell_type": "code",
   "execution_count": null,
   "id": "c91fb582",
   "metadata": {},
   "outputs": [],
   "source": []
  }
 ],
 "metadata": {
  "kernelspec": {
   "display_name": "Python 3",
   "language": "python",
   "name": "python3"
  },
  "language_info": {
   "codemirror_mode": {
    "name": "ipython",
    "version": 3
   },
   "file_extension": ".py",
   "mimetype": "text/x-python",
   "name": "python",
   "nbconvert_exporter": "python",
   "pygments_lexer": "ipython3",
   "version": "3.9.5"
  }
 },
 "nbformat": 4,
 "nbformat_minor": 5
}
